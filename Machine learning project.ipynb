{
 "cells": [
  {
   "cell_type": "markdown",
   "id": "63be1b50",
   "metadata": {},
   "source": [
    "# Project Objective"
   ]
  },
  {
   "cell_type": "raw",
   "id": "cfcecb77",
   "metadata": {},
   "source": [
    " Chinese automobile company aspires to enter the US market by setting up their manufacturing unit there and producing cars locally to give competition to their US and European counterparts. They have contracted an automobile consulting company to understand the factors on which the pricing of cars depends. Specifically, they want to understand the factors affecting the pricing of cars in the American market, since those may be very different from the Chinese market. Essentially, the company wants to know:\n",
    "Which variables are significant in predicting the price of a car\n",
    "How well those variables describe the price of a car\n",
    "Based on various market surveys, the consulting firm has gathered a large dataset of different types of cars across the American market."
   ]
  },
  {
   "cell_type": "markdown",
   "id": "ffcccba2",
   "metadata": {},
   "source": [
    "# Loading and Preprocessing"
   ]
  },
  {
   "cell_type": "markdown",
   "id": "6b33c615",
   "metadata": {},
   "source": [
    "Importing library"
   ]
  },
  {
   "cell_type": "code",
   "execution_count": 1,
   "id": "fe2f3749",
   "metadata": {},
   "outputs": [],
   "source": [
    "import numpy as np\n",
    "import pandas as pd\n",
    "import matplotlib.pyplot as plt\n",
    "import seaborn as sns"
   ]
  },
  {
   "cell_type": "markdown",
   "id": "95f807da",
   "metadata": {},
   "source": [
    "Read the file"
   ]
  },
  {
   "cell_type": "code",
   "execution_count": 3,
   "id": "cf5964fc",
   "metadata": {},
   "outputs": [
    {
     "data": {
      "text/html": [
       "<div>\n",
       "<style scoped>\n",
       "    .dataframe tbody tr th:only-of-type {\n",
       "        vertical-align: middle;\n",
       "    }\n",
       "\n",
       "    .dataframe tbody tr th {\n",
       "        vertical-align: top;\n",
       "    }\n",
       "\n",
       "    .dataframe thead th {\n",
       "        text-align: right;\n",
       "    }\n",
       "</style>\n",
       "<table border=\"1\" class=\"dataframe\">\n",
       "  <thead>\n",
       "    <tr style=\"text-align: right;\">\n",
       "      <th></th>\n",
       "      <th>car_ID</th>\n",
       "      <th>symboling</th>\n",
       "      <th>CarName</th>\n",
       "      <th>fueltype</th>\n",
       "      <th>aspiration</th>\n",
       "      <th>doornumber</th>\n",
       "      <th>carbody</th>\n",
       "      <th>drivewheel</th>\n",
       "      <th>enginelocation</th>\n",
       "      <th>wheelbase</th>\n",
       "      <th>...</th>\n",
       "      <th>enginesize</th>\n",
       "      <th>fuelsystem</th>\n",
       "      <th>boreratio</th>\n",
       "      <th>stroke</th>\n",
       "      <th>compressionratio</th>\n",
       "      <th>horsepower</th>\n",
       "      <th>peakrpm</th>\n",
       "      <th>citympg</th>\n",
       "      <th>highwaympg</th>\n",
       "      <th>price</th>\n",
       "    </tr>\n",
       "  </thead>\n",
       "  <tbody>\n",
       "    <tr>\n",
       "      <th>0</th>\n",
       "      <td>1</td>\n",
       "      <td>3</td>\n",
       "      <td>alfa-romero giulia</td>\n",
       "      <td>gas</td>\n",
       "      <td>std</td>\n",
       "      <td>two</td>\n",
       "      <td>convertible</td>\n",
       "      <td>rwd</td>\n",
       "      <td>front</td>\n",
       "      <td>88.6</td>\n",
       "      <td>...</td>\n",
       "      <td>130</td>\n",
       "      <td>mpfi</td>\n",
       "      <td>3.47</td>\n",
       "      <td>2.68</td>\n",
       "      <td>9.0</td>\n",
       "      <td>111</td>\n",
       "      <td>5000</td>\n",
       "      <td>21</td>\n",
       "      <td>27</td>\n",
       "      <td>13495.0</td>\n",
       "    </tr>\n",
       "    <tr>\n",
       "      <th>1</th>\n",
       "      <td>2</td>\n",
       "      <td>3</td>\n",
       "      <td>alfa-romero stelvio</td>\n",
       "      <td>gas</td>\n",
       "      <td>std</td>\n",
       "      <td>two</td>\n",
       "      <td>convertible</td>\n",
       "      <td>rwd</td>\n",
       "      <td>front</td>\n",
       "      <td>88.6</td>\n",
       "      <td>...</td>\n",
       "      <td>130</td>\n",
       "      <td>mpfi</td>\n",
       "      <td>3.47</td>\n",
       "      <td>2.68</td>\n",
       "      <td>9.0</td>\n",
       "      <td>111</td>\n",
       "      <td>5000</td>\n",
       "      <td>21</td>\n",
       "      <td>27</td>\n",
       "      <td>16500.0</td>\n",
       "    </tr>\n",
       "    <tr>\n",
       "      <th>2</th>\n",
       "      <td>3</td>\n",
       "      <td>1</td>\n",
       "      <td>alfa-romero Quadrifoglio</td>\n",
       "      <td>gas</td>\n",
       "      <td>std</td>\n",
       "      <td>two</td>\n",
       "      <td>hatchback</td>\n",
       "      <td>rwd</td>\n",
       "      <td>front</td>\n",
       "      <td>94.5</td>\n",
       "      <td>...</td>\n",
       "      <td>152</td>\n",
       "      <td>mpfi</td>\n",
       "      <td>2.68</td>\n",
       "      <td>3.47</td>\n",
       "      <td>9.0</td>\n",
       "      <td>154</td>\n",
       "      <td>5000</td>\n",
       "      <td>19</td>\n",
       "      <td>26</td>\n",
       "      <td>16500.0</td>\n",
       "    </tr>\n",
       "    <tr>\n",
       "      <th>3</th>\n",
       "      <td>4</td>\n",
       "      <td>2</td>\n",
       "      <td>audi 100 ls</td>\n",
       "      <td>gas</td>\n",
       "      <td>std</td>\n",
       "      <td>four</td>\n",
       "      <td>sedan</td>\n",
       "      <td>fwd</td>\n",
       "      <td>front</td>\n",
       "      <td>99.8</td>\n",
       "      <td>...</td>\n",
       "      <td>109</td>\n",
       "      <td>mpfi</td>\n",
       "      <td>3.19</td>\n",
       "      <td>3.40</td>\n",
       "      <td>10.0</td>\n",
       "      <td>102</td>\n",
       "      <td>5500</td>\n",
       "      <td>24</td>\n",
       "      <td>30</td>\n",
       "      <td>13950.0</td>\n",
       "    </tr>\n",
       "    <tr>\n",
       "      <th>4</th>\n",
       "      <td>5</td>\n",
       "      <td>2</td>\n",
       "      <td>audi 100ls</td>\n",
       "      <td>gas</td>\n",
       "      <td>std</td>\n",
       "      <td>four</td>\n",
       "      <td>sedan</td>\n",
       "      <td>4wd</td>\n",
       "      <td>front</td>\n",
       "      <td>99.4</td>\n",
       "      <td>...</td>\n",
       "      <td>136</td>\n",
       "      <td>mpfi</td>\n",
       "      <td>3.19</td>\n",
       "      <td>3.40</td>\n",
       "      <td>8.0</td>\n",
       "      <td>115</td>\n",
       "      <td>5500</td>\n",
       "      <td>18</td>\n",
       "      <td>22</td>\n",
       "      <td>17450.0</td>\n",
       "    </tr>\n",
       "    <tr>\n",
       "      <th>...</th>\n",
       "      <td>...</td>\n",
       "      <td>...</td>\n",
       "      <td>...</td>\n",
       "      <td>...</td>\n",
       "      <td>...</td>\n",
       "      <td>...</td>\n",
       "      <td>...</td>\n",
       "      <td>...</td>\n",
       "      <td>...</td>\n",
       "      <td>...</td>\n",
       "      <td>...</td>\n",
       "      <td>...</td>\n",
       "      <td>...</td>\n",
       "      <td>...</td>\n",
       "      <td>...</td>\n",
       "      <td>...</td>\n",
       "      <td>...</td>\n",
       "      <td>...</td>\n",
       "      <td>...</td>\n",
       "      <td>...</td>\n",
       "      <td>...</td>\n",
       "    </tr>\n",
       "    <tr>\n",
       "      <th>200</th>\n",
       "      <td>201</td>\n",
       "      <td>-1</td>\n",
       "      <td>volvo 145e (sw)</td>\n",
       "      <td>gas</td>\n",
       "      <td>std</td>\n",
       "      <td>four</td>\n",
       "      <td>sedan</td>\n",
       "      <td>rwd</td>\n",
       "      <td>front</td>\n",
       "      <td>109.1</td>\n",
       "      <td>...</td>\n",
       "      <td>141</td>\n",
       "      <td>mpfi</td>\n",
       "      <td>3.78</td>\n",
       "      <td>3.15</td>\n",
       "      <td>9.5</td>\n",
       "      <td>114</td>\n",
       "      <td>5400</td>\n",
       "      <td>23</td>\n",
       "      <td>28</td>\n",
       "      <td>16845.0</td>\n",
       "    </tr>\n",
       "    <tr>\n",
       "      <th>201</th>\n",
       "      <td>202</td>\n",
       "      <td>-1</td>\n",
       "      <td>volvo 144ea</td>\n",
       "      <td>gas</td>\n",
       "      <td>turbo</td>\n",
       "      <td>four</td>\n",
       "      <td>sedan</td>\n",
       "      <td>rwd</td>\n",
       "      <td>front</td>\n",
       "      <td>109.1</td>\n",
       "      <td>...</td>\n",
       "      <td>141</td>\n",
       "      <td>mpfi</td>\n",
       "      <td>3.78</td>\n",
       "      <td>3.15</td>\n",
       "      <td>8.7</td>\n",
       "      <td>160</td>\n",
       "      <td>5300</td>\n",
       "      <td>19</td>\n",
       "      <td>25</td>\n",
       "      <td>19045.0</td>\n",
       "    </tr>\n",
       "    <tr>\n",
       "      <th>202</th>\n",
       "      <td>203</td>\n",
       "      <td>-1</td>\n",
       "      <td>volvo 244dl</td>\n",
       "      <td>gas</td>\n",
       "      <td>std</td>\n",
       "      <td>four</td>\n",
       "      <td>sedan</td>\n",
       "      <td>rwd</td>\n",
       "      <td>front</td>\n",
       "      <td>109.1</td>\n",
       "      <td>...</td>\n",
       "      <td>173</td>\n",
       "      <td>mpfi</td>\n",
       "      <td>3.58</td>\n",
       "      <td>2.87</td>\n",
       "      <td>8.8</td>\n",
       "      <td>134</td>\n",
       "      <td>5500</td>\n",
       "      <td>18</td>\n",
       "      <td>23</td>\n",
       "      <td>21485.0</td>\n",
       "    </tr>\n",
       "    <tr>\n",
       "      <th>203</th>\n",
       "      <td>204</td>\n",
       "      <td>-1</td>\n",
       "      <td>volvo 246</td>\n",
       "      <td>diesel</td>\n",
       "      <td>turbo</td>\n",
       "      <td>four</td>\n",
       "      <td>sedan</td>\n",
       "      <td>rwd</td>\n",
       "      <td>front</td>\n",
       "      <td>109.1</td>\n",
       "      <td>...</td>\n",
       "      <td>145</td>\n",
       "      <td>idi</td>\n",
       "      <td>3.01</td>\n",
       "      <td>3.40</td>\n",
       "      <td>23.0</td>\n",
       "      <td>106</td>\n",
       "      <td>4800</td>\n",
       "      <td>26</td>\n",
       "      <td>27</td>\n",
       "      <td>22470.0</td>\n",
       "    </tr>\n",
       "    <tr>\n",
       "      <th>204</th>\n",
       "      <td>205</td>\n",
       "      <td>-1</td>\n",
       "      <td>volvo 264gl</td>\n",
       "      <td>gas</td>\n",
       "      <td>turbo</td>\n",
       "      <td>four</td>\n",
       "      <td>sedan</td>\n",
       "      <td>rwd</td>\n",
       "      <td>front</td>\n",
       "      <td>109.1</td>\n",
       "      <td>...</td>\n",
       "      <td>141</td>\n",
       "      <td>mpfi</td>\n",
       "      <td>3.78</td>\n",
       "      <td>3.15</td>\n",
       "      <td>9.5</td>\n",
       "      <td>114</td>\n",
       "      <td>5400</td>\n",
       "      <td>19</td>\n",
       "      <td>25</td>\n",
       "      <td>22625.0</td>\n",
       "    </tr>\n",
       "  </tbody>\n",
       "</table>\n",
       "<p>205 rows × 26 columns</p>\n",
       "</div>"
      ],
      "text/plain": [
       "     car_ID  symboling                   CarName fueltype aspiration  \\\n",
       "0         1          3        alfa-romero giulia      gas        std   \n",
       "1         2          3       alfa-romero stelvio      gas        std   \n",
       "2         3          1  alfa-romero Quadrifoglio      gas        std   \n",
       "3         4          2               audi 100 ls      gas        std   \n",
       "4         5          2                audi 100ls      gas        std   \n",
       "..      ...        ...                       ...      ...        ...   \n",
       "200     201         -1           volvo 145e (sw)      gas        std   \n",
       "201     202         -1               volvo 144ea      gas      turbo   \n",
       "202     203         -1               volvo 244dl      gas        std   \n",
       "203     204         -1                 volvo 246   diesel      turbo   \n",
       "204     205         -1               volvo 264gl      gas      turbo   \n",
       "\n",
       "    doornumber      carbody drivewheel enginelocation  wheelbase  ...  \\\n",
       "0          two  convertible        rwd          front       88.6  ...   \n",
       "1          two  convertible        rwd          front       88.6  ...   \n",
       "2          two    hatchback        rwd          front       94.5  ...   \n",
       "3         four        sedan        fwd          front       99.8  ...   \n",
       "4         four        sedan        4wd          front       99.4  ...   \n",
       "..         ...          ...        ...            ...        ...  ...   \n",
       "200       four        sedan        rwd          front      109.1  ...   \n",
       "201       four        sedan        rwd          front      109.1  ...   \n",
       "202       four        sedan        rwd          front      109.1  ...   \n",
       "203       four        sedan        rwd          front      109.1  ...   \n",
       "204       four        sedan        rwd          front      109.1  ...   \n",
       "\n",
       "     enginesize  fuelsystem  boreratio  stroke compressionratio horsepower  \\\n",
       "0           130        mpfi       3.47    2.68              9.0        111   \n",
       "1           130        mpfi       3.47    2.68              9.0        111   \n",
       "2           152        mpfi       2.68    3.47              9.0        154   \n",
       "3           109        mpfi       3.19    3.40             10.0        102   \n",
       "4           136        mpfi       3.19    3.40              8.0        115   \n",
       "..          ...         ...        ...     ...              ...        ...   \n",
       "200         141        mpfi       3.78    3.15              9.5        114   \n",
       "201         141        mpfi       3.78    3.15              8.7        160   \n",
       "202         173        mpfi       3.58    2.87              8.8        134   \n",
       "203         145         idi       3.01    3.40             23.0        106   \n",
       "204         141        mpfi       3.78    3.15              9.5        114   \n",
       "\n",
       "     peakrpm citympg  highwaympg    price  \n",
       "0       5000      21          27  13495.0  \n",
       "1       5000      21          27  16500.0  \n",
       "2       5000      19          26  16500.0  \n",
       "3       5500      24          30  13950.0  \n",
       "4       5500      18          22  17450.0  \n",
       "..       ...     ...         ...      ...  \n",
       "200     5400      23          28  16845.0  \n",
       "201     5300      19          25  19045.0  \n",
       "202     5500      18          23  21485.0  \n",
       "203     4800      26          27  22470.0  \n",
       "204     5400      19          25  22625.0  \n",
       "\n",
       "[205 rows x 26 columns]"
      ]
     },
     "execution_count": 3,
     "metadata": {},
     "output_type": "execute_result"
    }
   ],
   "source": [
    "data=pd.read_csv(\"CarPrice_Assignment.csv\")\n",
    "data"
   ]
  },
  {
   "cell_type": "markdown",
   "id": "b211beea",
   "metadata": {},
   "source": [
    "Display basic information"
   ]
  },
  {
   "cell_type": "code",
   "execution_count": 4,
   "id": "b4060c44",
   "metadata": {},
   "outputs": [
    {
     "name": "stdout",
     "output_type": "stream",
     "text": [
      "<class 'pandas.core.frame.DataFrame'>\n",
      "RangeIndex: 205 entries, 0 to 204\n",
      "Data columns (total 26 columns):\n",
      " #   Column            Non-Null Count  Dtype  \n",
      "---  ------            --------------  -----  \n",
      " 0   car_ID            205 non-null    int64  \n",
      " 1   symboling         205 non-null    int64  \n",
      " 2   CarName           205 non-null    object \n",
      " 3   fueltype          205 non-null    object \n",
      " 4   aspiration        205 non-null    object \n",
      " 5   doornumber        205 non-null    object \n",
      " 6   carbody           205 non-null    object \n",
      " 7   drivewheel        205 non-null    object \n",
      " 8   enginelocation    205 non-null    object \n",
      " 9   wheelbase         205 non-null    float64\n",
      " 10  carlength         205 non-null    float64\n",
      " 11  carwidth          205 non-null    float64\n",
      " 12  carheight         205 non-null    float64\n",
      " 13  curbweight        205 non-null    int64  \n",
      " 14  enginetype        205 non-null    object \n",
      " 15  cylindernumber    205 non-null    object \n",
      " 16  enginesize        205 non-null    int64  \n",
      " 17  fuelsystem        205 non-null    object \n",
      " 18  boreratio         205 non-null    float64\n",
      " 19  stroke            205 non-null    float64\n",
      " 20  compressionratio  205 non-null    float64\n",
      " 21  horsepower        205 non-null    int64  \n",
      " 22  peakrpm           205 non-null    int64  \n",
      " 23  citympg           205 non-null    int64  \n",
      " 24  highwaympg        205 non-null    int64  \n",
      " 25  price             205 non-null    float64\n",
      "dtypes: float64(8), int64(8), object(10)\n",
      "memory usage: 41.8+ KB\n"
     ]
    }
   ],
   "source": [
    "data.info()"
   ]
  },
  {
   "cell_type": "code",
   "execution_count": 6,
   "id": "acb901fb",
   "metadata": {},
   "outputs": [
    {
     "data": {
      "text/html": [
       "<div>\n",
       "<style scoped>\n",
       "    .dataframe tbody tr th:only-of-type {\n",
       "        vertical-align: middle;\n",
       "    }\n",
       "\n",
       "    .dataframe tbody tr th {\n",
       "        vertical-align: top;\n",
       "    }\n",
       "\n",
       "    .dataframe thead th {\n",
       "        text-align: right;\n",
       "    }\n",
       "</style>\n",
       "<table border=\"1\" class=\"dataframe\">\n",
       "  <thead>\n",
       "    <tr style=\"text-align: right;\">\n",
       "      <th></th>\n",
       "      <th>car_ID</th>\n",
       "      <th>symboling</th>\n",
       "      <th>wheelbase</th>\n",
       "      <th>carlength</th>\n",
       "      <th>carwidth</th>\n",
       "      <th>carheight</th>\n",
       "      <th>curbweight</th>\n",
       "      <th>enginesize</th>\n",
       "      <th>boreratio</th>\n",
       "      <th>stroke</th>\n",
       "      <th>compressionratio</th>\n",
       "      <th>horsepower</th>\n",
       "      <th>peakrpm</th>\n",
       "      <th>citympg</th>\n",
       "      <th>highwaympg</th>\n",
       "      <th>price</th>\n",
       "    </tr>\n",
       "  </thead>\n",
       "  <tbody>\n",
       "    <tr>\n",
       "      <th>count</th>\n",
       "      <td>205.000000</td>\n",
       "      <td>205.000000</td>\n",
       "      <td>205.000000</td>\n",
       "      <td>205.000000</td>\n",
       "      <td>205.000000</td>\n",
       "      <td>205.000000</td>\n",
       "      <td>205.000000</td>\n",
       "      <td>205.000000</td>\n",
       "      <td>205.000000</td>\n",
       "      <td>205.000000</td>\n",
       "      <td>205.000000</td>\n",
       "      <td>205.000000</td>\n",
       "      <td>205.000000</td>\n",
       "      <td>205.000000</td>\n",
       "      <td>205.000000</td>\n",
       "      <td>205.000000</td>\n",
       "    </tr>\n",
       "    <tr>\n",
       "      <th>mean</th>\n",
       "      <td>103.000000</td>\n",
       "      <td>0.834146</td>\n",
       "      <td>98.756585</td>\n",
       "      <td>174.049268</td>\n",
       "      <td>65.907805</td>\n",
       "      <td>53.724878</td>\n",
       "      <td>2555.565854</td>\n",
       "      <td>126.907317</td>\n",
       "      <td>3.329756</td>\n",
       "      <td>3.255415</td>\n",
       "      <td>10.142537</td>\n",
       "      <td>104.117073</td>\n",
       "      <td>5125.121951</td>\n",
       "      <td>25.219512</td>\n",
       "      <td>30.751220</td>\n",
       "      <td>13276.710571</td>\n",
       "    </tr>\n",
       "    <tr>\n",
       "      <th>std</th>\n",
       "      <td>59.322565</td>\n",
       "      <td>1.245307</td>\n",
       "      <td>6.021776</td>\n",
       "      <td>12.337289</td>\n",
       "      <td>2.145204</td>\n",
       "      <td>2.443522</td>\n",
       "      <td>520.680204</td>\n",
       "      <td>41.642693</td>\n",
       "      <td>0.270844</td>\n",
       "      <td>0.313597</td>\n",
       "      <td>3.972040</td>\n",
       "      <td>39.544167</td>\n",
       "      <td>476.985643</td>\n",
       "      <td>6.542142</td>\n",
       "      <td>6.886443</td>\n",
       "      <td>7988.852332</td>\n",
       "    </tr>\n",
       "    <tr>\n",
       "      <th>min</th>\n",
       "      <td>1.000000</td>\n",
       "      <td>-2.000000</td>\n",
       "      <td>86.600000</td>\n",
       "      <td>141.100000</td>\n",
       "      <td>60.300000</td>\n",
       "      <td>47.800000</td>\n",
       "      <td>1488.000000</td>\n",
       "      <td>61.000000</td>\n",
       "      <td>2.540000</td>\n",
       "      <td>2.070000</td>\n",
       "      <td>7.000000</td>\n",
       "      <td>48.000000</td>\n",
       "      <td>4150.000000</td>\n",
       "      <td>13.000000</td>\n",
       "      <td>16.000000</td>\n",
       "      <td>5118.000000</td>\n",
       "    </tr>\n",
       "    <tr>\n",
       "      <th>25%</th>\n",
       "      <td>52.000000</td>\n",
       "      <td>0.000000</td>\n",
       "      <td>94.500000</td>\n",
       "      <td>166.300000</td>\n",
       "      <td>64.100000</td>\n",
       "      <td>52.000000</td>\n",
       "      <td>2145.000000</td>\n",
       "      <td>97.000000</td>\n",
       "      <td>3.150000</td>\n",
       "      <td>3.110000</td>\n",
       "      <td>8.600000</td>\n",
       "      <td>70.000000</td>\n",
       "      <td>4800.000000</td>\n",
       "      <td>19.000000</td>\n",
       "      <td>25.000000</td>\n",
       "      <td>7788.000000</td>\n",
       "    </tr>\n",
       "    <tr>\n",
       "      <th>50%</th>\n",
       "      <td>103.000000</td>\n",
       "      <td>1.000000</td>\n",
       "      <td>97.000000</td>\n",
       "      <td>173.200000</td>\n",
       "      <td>65.500000</td>\n",
       "      <td>54.100000</td>\n",
       "      <td>2414.000000</td>\n",
       "      <td>120.000000</td>\n",
       "      <td>3.310000</td>\n",
       "      <td>3.290000</td>\n",
       "      <td>9.000000</td>\n",
       "      <td>95.000000</td>\n",
       "      <td>5200.000000</td>\n",
       "      <td>24.000000</td>\n",
       "      <td>30.000000</td>\n",
       "      <td>10295.000000</td>\n",
       "    </tr>\n",
       "    <tr>\n",
       "      <th>75%</th>\n",
       "      <td>154.000000</td>\n",
       "      <td>2.000000</td>\n",
       "      <td>102.400000</td>\n",
       "      <td>183.100000</td>\n",
       "      <td>66.900000</td>\n",
       "      <td>55.500000</td>\n",
       "      <td>2935.000000</td>\n",
       "      <td>141.000000</td>\n",
       "      <td>3.580000</td>\n",
       "      <td>3.410000</td>\n",
       "      <td>9.400000</td>\n",
       "      <td>116.000000</td>\n",
       "      <td>5500.000000</td>\n",
       "      <td>30.000000</td>\n",
       "      <td>34.000000</td>\n",
       "      <td>16503.000000</td>\n",
       "    </tr>\n",
       "    <tr>\n",
       "      <th>max</th>\n",
       "      <td>205.000000</td>\n",
       "      <td>3.000000</td>\n",
       "      <td>120.900000</td>\n",
       "      <td>208.100000</td>\n",
       "      <td>72.300000</td>\n",
       "      <td>59.800000</td>\n",
       "      <td>4066.000000</td>\n",
       "      <td>326.000000</td>\n",
       "      <td>3.940000</td>\n",
       "      <td>4.170000</td>\n",
       "      <td>23.000000</td>\n",
       "      <td>288.000000</td>\n",
       "      <td>6600.000000</td>\n",
       "      <td>49.000000</td>\n",
       "      <td>54.000000</td>\n",
       "      <td>45400.000000</td>\n",
       "    </tr>\n",
       "  </tbody>\n",
       "</table>\n",
       "</div>"
      ],
      "text/plain": [
       "           car_ID   symboling   wheelbase   carlength    carwidth   carheight  \\\n",
       "count  205.000000  205.000000  205.000000  205.000000  205.000000  205.000000   \n",
       "mean   103.000000    0.834146   98.756585  174.049268   65.907805   53.724878   \n",
       "std     59.322565    1.245307    6.021776   12.337289    2.145204    2.443522   \n",
       "min      1.000000   -2.000000   86.600000  141.100000   60.300000   47.800000   \n",
       "25%     52.000000    0.000000   94.500000  166.300000   64.100000   52.000000   \n",
       "50%    103.000000    1.000000   97.000000  173.200000   65.500000   54.100000   \n",
       "75%    154.000000    2.000000  102.400000  183.100000   66.900000   55.500000   \n",
       "max    205.000000    3.000000  120.900000  208.100000   72.300000   59.800000   \n",
       "\n",
       "        curbweight  enginesize   boreratio      stroke  compressionratio  \\\n",
       "count   205.000000  205.000000  205.000000  205.000000        205.000000   \n",
       "mean   2555.565854  126.907317    3.329756    3.255415         10.142537   \n",
       "std     520.680204   41.642693    0.270844    0.313597          3.972040   \n",
       "min    1488.000000   61.000000    2.540000    2.070000          7.000000   \n",
       "25%    2145.000000   97.000000    3.150000    3.110000          8.600000   \n",
       "50%    2414.000000  120.000000    3.310000    3.290000          9.000000   \n",
       "75%    2935.000000  141.000000    3.580000    3.410000          9.400000   \n",
       "max    4066.000000  326.000000    3.940000    4.170000         23.000000   \n",
       "\n",
       "       horsepower      peakrpm     citympg  highwaympg         price  \n",
       "count  205.000000   205.000000  205.000000  205.000000    205.000000  \n",
       "mean   104.117073  5125.121951   25.219512   30.751220  13276.710571  \n",
       "std     39.544167   476.985643    6.542142    6.886443   7988.852332  \n",
       "min     48.000000  4150.000000   13.000000   16.000000   5118.000000  \n",
       "25%     70.000000  4800.000000   19.000000   25.000000   7788.000000  \n",
       "50%     95.000000  5200.000000   24.000000   30.000000  10295.000000  \n",
       "75%    116.000000  5500.000000   30.000000   34.000000  16503.000000  \n",
       "max    288.000000  6600.000000   49.000000   54.000000  45400.000000  "
      ]
     },
     "execution_count": 6,
     "metadata": {},
     "output_type": "execute_result"
    }
   ],
   "source": [
    "data.describe()"
   ]
  },
  {
   "cell_type": "markdown",
   "id": "158371c6",
   "metadata": {},
   "source": [
    "Data Cleaning"
   ]
  },
  {
   "cell_type": "code",
   "execution_count": 7,
   "id": "5b2463b4",
   "metadata": {},
   "outputs": [
    {
     "data": {
      "text/plain": [
       "car_ID              0\n",
       "symboling           0\n",
       "CarName             0\n",
       "fueltype            0\n",
       "aspiration          0\n",
       "doornumber          0\n",
       "carbody             0\n",
       "drivewheel          0\n",
       "enginelocation      0\n",
       "wheelbase           0\n",
       "carlength           0\n",
       "carwidth            0\n",
       "carheight           0\n",
       "curbweight          0\n",
       "enginetype          0\n",
       "cylindernumber      0\n",
       "enginesize          0\n",
       "fuelsystem          0\n",
       "boreratio           0\n",
       "stroke              0\n",
       "compressionratio    0\n",
       "horsepower          0\n",
       "peakrpm             0\n",
       "citympg             0\n",
       "highwaympg          0\n",
       "price               0\n",
       "dtype: int64"
      ]
     },
     "execution_count": 7,
     "metadata": {},
     "output_type": "execute_result"
    }
   ],
   "source": [
    "data.isnull().sum()"
   ]
  },
  {
   "cell_type": "code",
   "execution_count": 9,
   "id": "ccc6a7f6",
   "metadata": {},
   "outputs": [
    {
     "data": {
      "text/plain": [
       "0"
      ]
     },
     "execution_count": 9,
     "metadata": {},
     "output_type": "execute_result"
    }
   ],
   "source": [
    "data.duplicated().sum()"
   ]
  },
  {
   "cell_type": "markdown",
   "id": "9022e752",
   "metadata": {},
   "source": [
    "Encode categorical features using label encoder"
   ]
  },
  {
   "cell_type": "code",
   "execution_count": 10,
   "id": "73bc8714",
   "metadata": {},
   "outputs": [],
   "source": [
    "from sklearn.preprocessing import StandardScaler, LabelEncoder\n",
    "categorical_cols = data.select_dtypes(include=['object']).columns\n",
    "encoder = LabelEncoder()\n",
    "for col in categorical_cols:\n",
    "    data[col] = encoder.fit_transform(data[col])"
   ]
  },
  {
   "cell_type": "markdown",
   "id": "3ea2eb26",
   "metadata": {},
   "source": [
    "Seperate x and y"
   ]
  },
  {
   "cell_type": "code",
   "execution_count": 11,
   "id": "ff0f17fc",
   "metadata": {},
   "outputs": [],
   "source": [
    "X = data.drop(['price'], axis=1)\n",
    "y = data['price']"
   ]
  },
  {
   "cell_type": "markdown",
   "id": "347d84bb",
   "metadata": {},
   "source": [
    "Split the data"
   ]
  },
  {
   "cell_type": "code",
   "execution_count": 13,
   "id": "672ccc25",
   "metadata": {},
   "outputs": [],
   "source": [
    "from sklearn.model_selection import train_test_split\n",
    "X_train, X_test, y_train, y_test = train_test_split(X, y, test_size=0.2, random_state=42)"
   ]
  },
  {
   "cell_type": "markdown",
   "id": "ca080588",
   "metadata": {},
   "source": [
    "scale the feature"
   ]
  },
  {
   "cell_type": "code",
   "execution_count": 14,
   "id": "90891b07",
   "metadata": {},
   "outputs": [],
   "source": [
    "scaler = StandardScaler()\n",
    "X_train = scaler.fit_transform(X_train)\n",
    "X_test = scaler.transform(X_test)"
   ]
  },
  {
   "cell_type": "markdown",
   "id": "3188a8d3",
   "metadata": {},
   "source": [
    "# Model Implementation"
   ]
  },
  {
   "cell_type": "markdown",
   "id": "b7caa91f",
   "metadata": {},
   "source": [
    "Linear Regression"
   ]
  },
  {
   "cell_type": "code",
   "execution_count": 19,
   "id": "ad450412",
   "metadata": {
    "scrolled": true
   },
   "outputs": [
    {
     "data": {
      "text/plain": [
       "array([25783.25418642, 17590.19034007,  9749.41774329, 13344.41148125,\n",
       "       27280.94377292,  6357.70028107,  8713.26230338,  5734.28057726,\n",
       "        9449.29974282,  7106.92604731, 13742.38737314,  5979.00747713,\n",
       "       16651.11471939, 10552.79250236, 40457.1636125 ,  6710.72559894,\n",
       "         484.11999496, 14240.99382584,  9727.97223046, 10460.90898101,\n",
       "       10941.50660196, 21136.81726627,  8177.97185747,  3244.00794152,\n",
       "        7777.92851044, 24504.52472833, 14092.94909723, 15826.15799989,\n",
       "        5244.08940192, 16102.44725101, 27166.32467284,  7239.59071361,\n",
       "        4578.17478895, 22177.76526526,  8255.66494855, 27497.23172714,\n",
       "       10063.67575722,  9984.91341199,  6800.48179645, 14644.70979449,\n",
       "        7421.77429317])"
      ]
     },
     "execution_count": 19,
     "metadata": {},
     "output_type": "execute_result"
    }
   ],
   "source": [
    "from sklearn.linear_model import LinearRegression\n",
    "from sklearn.metrics import accuracy_score,classification_report,confusion_matrix\n",
    "lr_model = LinearRegression()\n",
    "lr_model.fit(X_train, y_train)\n",
    "lr_preds = lr_model.predict(X_test)\n",
    "lr_preds"
   ]
  },
  {
   "cell_type": "code",
   "execution_count": 25,
   "id": "12bad507",
   "metadata": {},
   "outputs": [
    {
     "data": {
      "image/png": "[encoded data removed]",
      "text/plain": [
       "<Figure size 576x432 with 1 Axes>"
      ]
     },
     "metadata": {
      "needs_background": "light"
     },
     "output_type": "display_data"
    }
   ],
   "source": [
    "# Residual Plot for Linear Regression\n",
    "lr_residuals = y_test - lr_preds\n",
    "plt.figure(figsize=(8, 6))\n",
    "sns.histplot(lr_residuals, kde=True, bins=30, color='blue', alpha=0.6)\n",
    "plt.title(\"Linear Regression: Residual Distribution\")\n",
    "plt.xlabel(\"Residuals\")\n",
    "plt.ylabel(\"Frequency\")\n",
    "plt.show()"
   ]
  },
  {
   "cell_type": "markdown",
   "id": "557ea2b2",
   "metadata": {},
   "source": [
    "Decision Tree Regressor"
   ]
  },
  {
   "cell_type": "code",
   "execution_count": 20,
   "id": "2d2f29c0",
   "metadata": {
    "scrolled": true
   },
   "outputs": [
    {
     "data": {
      "text/plain": [
       "array([36880., 15998.,  9095., 12170., 35550.,  5195.,  6918.,  8358.,\n",
       "        9233.,  7995., 12170.,  8058., 11845., 11248., 45400.,  6338.,\n",
       "        5399., 12964.,  6989.,  9233., 10245., 14399.,  5195.,  5348.,\n",
       "        7609., 36880.,  8449., 15985.,  7499., 15985., 35550.,  6669.,\n",
       "        6785., 19045.,  7957., 35056.,  9279., 11845.,  6575., 14869.,\n",
       "        9233.])"
      ]
     },
     "execution_count": 20,
     "metadata": {},
     "output_type": "execute_result"
    }
   ],
   "source": [
    "from sklearn.tree import DecisionTreeRegressor\n",
    "dt_model = DecisionTreeRegressor(random_state=42)\n",
    "dt_model.fit(X_train, y_train)\n",
    "dt_preds = dt_model.predict(X_test)\n",
    "dt_preds"
   ]
  },
  {
   "cell_type": "code",
   "execution_count": 26,
   "id": "d9572ba7",
   "metadata": {},
   "outputs": [
    {
     "data": {
      "image/png": "[encoded data removed]",
      "text/plain": [
       "<Figure size 576x432 with 1 Axes>"
      ]
     },
     "metadata": {
      "needs_background": "light"
     },
     "output_type": "display_data"
    }
   ],
   "source": [
    "# Residual Plot for Decision Tree\n",
    "dt_residuals = y_test - dt_preds\n",
    "plt.figure(figsize=(8, 6))\n",
    "sns.histplot(dt_residuals, kde=True, bins=30, color='green', alpha=0.6)\n",
    "plt.title(\"Decision Tree Regressor: Residual Distribution\")\n",
    "plt.xlabel(\"Residuals\")\n",
    "plt.ylabel(\"Frequency\")\n",
    "plt.show()"
   ]
  },
  {
   "cell_type": "markdown",
   "id": "9ccc3337",
   "metadata": {},
   "source": [
    " Random Forest Regressor"
   ]
  },
  {
   "cell_type": "code",
   "execution_count": 21,
   "id": "3a3bbe5b",
   "metadata": {},
   "outputs": [
    {
     "data": {
      "text/plain": [
       "array([35347.93 , 19313.11 ,  8978.94 , 12964.68 , 27828.135,  6541.06 ,\n",
       "        7929.51 ,  8075.63 ,  9458.32 ,  8274.53 , 13659.62 ,  7953.48 ,\n",
       "       14000.7  , 10866.65 , 39992.19 ,  6455.75 ,  5746.04 , 14281.28 ,\n",
       "        8552.34 ,  9119.43 , 10153.72 , 15214.91 ,  6531.5  ,  5756.19 ,\n",
       "        7323.95 , 35530.05 ,  9083.57 , 16692.04 ,  7354.48 , 16528.29 ,\n",
       "       27775.735,  6409.13 ,  7923.93 , 18979.95 ,  8046.435, 27842.59 ,\n",
       "        9856.89 , 12561.91 ,  7662.62 , 14643.01 ,  8318.08 ])"
      ]
     },
     "execution_count": 21,
     "metadata": {},
     "output_type": "execute_result"
    }
   ],
   "source": [
    "from sklearn.ensemble import RandomForestRegressor\n",
    "rf_model = RandomForestRegressor(random_state=42)\n",
    "rf_model.fit(X_train, y_train)\n",
    "rf_preds = rf_model.predict(X_test)\n",
    "rf_preds"
   ]
  },
  {
   "cell_type": "code",
   "execution_count": 27,
   "id": "cf06e40c",
   "metadata": {},
   "outputs": [
    {
     "data": {
      "image/png": "[encoded data removed]",
      "text/plain": [
       "<Figure size 576x432 with 1 Axes>"
      ]
     },
     "metadata": {
      "needs_background": "light"
     },
     "output_type": "display_data"
    }
   ],
   "source": [
    "# Residual Plot for Random Forest\n",
    "rf_residuals = y_test - rf_preds\n",
    "plt.figure(figsize=(8, 6))\n",
    "sns.histplot(rf_residuals, kde=True, bins=30, color='orange', alpha=0.6)\n",
    "plt.title(\"Random Forest Regressor: Residual Distribution\")\n",
    "plt.xlabel(\"Residuals\")\n",
    "plt.ylabel(\"Frequency\")\n",
    "plt.show()"
   ]
  },
  {
   "cell_type": "markdown",
   "id": "3cbda845",
   "metadata": {},
   "source": [
    "Gradient Booster Regressor"
   ]
  },
  {
   "cell_type": "code",
   "execution_count": 22,
   "id": "3956e0b5",
   "metadata": {
    "scrolled": true
   },
   "outputs": [
    {
     "data": {
      "text/plain": [
       "array([36727.03722971, 20120.94730317,  8449.46531232, 12812.60619289,\n",
       "       32424.45213363,  6777.92133364,  7952.36948411,  7682.33552821,\n",
       "        9217.21699081,  8198.65225617, 13880.3773443 ,  7605.47029981,\n",
       "       16625.10552021, 10835.46062278, 44654.32667746,  6195.99497258,\n",
       "        4966.21154277, 13266.63457905,  8037.06652578,  8839.45993055,\n",
       "        9999.6356582 , 14699.75711037,  6734.00566277,  5833.82761017,\n",
       "        7025.51833675, 37275.00824911, 10108.7856973 , 16410.61354941,\n",
       "        6962.47386274, 16459.01896059, 33040.65761491,  6370.78010267,\n",
       "        6987.69507652, 19621.6879338 ,  8246.26862785, 32577.77137811,\n",
       "        9752.78146541, 12731.98382866,  7921.32082075, 14413.56364854,\n",
       "        7681.09307606])"
      ]
     },
     "execution_count": 22,
     "metadata": {},
     "output_type": "execute_result"
    }
   ],
   "source": [
    "from sklearn.ensemble import GradientBoostingRegressor\n",
    "gb_model = GradientBoostingRegressor(random_state=42)\n",
    "gb_model.fit(X_train, y_train)\n",
    "gb_preds = gb_model.predict(X_test)\n",
    "gb_preds"
   ]
  },
  {
   "cell_type": "code",
   "execution_count": 28,
   "id": "f06cc7df",
   "metadata": {},
   "outputs": [
    {
     "data": {
      "image/png": "[encoded data removed]",
      "text/plain": [
       "<Figure size 576x432 with 1 Axes>"
      ]
     },
     "metadata": {
      "needs_background": "light"
     },
     "output_type": "display_data"
    }
   ],
   "source": [
    "# Residual Plot for Gradient Boosting\n",
    "gb_residuals = y_test - gb_preds\n",
    "plt.figure(figsize=(8, 6))\n",
    "sns.histplot(gb_residuals, kde=True, bins=30, color='purple', alpha=0.6)\n",
    "plt.title(\"Gradient Boosting Regressor: Residual Distribution\")\n",
    "plt.xlabel(\"Residuals\")\n",
    "plt.ylabel(\"Frequency\")\n",
    "plt.show()"
   ]
  },
  {
   "cell_type": "markdown",
   "id": "7ead408a",
   "metadata": {},
   "source": [
    "Support Vector Regressor"
   ]
  },
  {
   "cell_type": "code",
   "execution_count": 23,
   "id": "ceb8b3bf",
   "metadata": {},
   "outputs": [
    {
     "data": {
      "text/plain": [
       "array([10667.47479244, 10657.36698028, 10631.73514709, 10654.42576053,\n",
       "       10663.75935707, 10620.87828218, 10648.20569352, 10628.59804074,\n",
       "       10646.91716934, 10648.36982803, 10654.99426062, 10632.88392418,\n",
       "       10661.68663788, 10648.70896083, 10660.91899238, 10625.89225367,\n",
       "       10646.10568765, 10658.87880941, 10632.80746634, 10644.29610747,\n",
       "       10638.56354292, 10662.84374076, 10625.62275268, 10641.22458604,\n",
       "       10624.83609493, 10667.20585831, 10654.30775997, 10664.7212412 ,\n",
       "       10624.87261715, 10664.22355207, 10664.37816186, 10623.274034  ,\n",
       "       10637.71744829, 10665.8485141 , 10640.7565401 , 10661.96561081,\n",
       "       10650.66224317, 10657.87172749, 10624.94624473, 10659.1943069 ,\n",
       "       10639.72807672])"
      ]
     },
     "execution_count": 23,
     "metadata": {},
     "output_type": "execute_result"
    }
   ],
   "source": [
    "from sklearn.svm import SVR\n",
    "svr_model = SVR()\n",
    "svr_model.fit(X_train, y_train)\n",
    "svr_preds = svr_model.predict(X_test)\n",
    "svr_preds"
   ]
  },
  {
   "cell_type": "code",
   "execution_count": 29,
   "id": "808beef6",
   "metadata": {},
   "outputs": [
    {
     "data": {
      "image/png": "[encoded data removed]",
      "text/plain": [
       "<Figure size 576x432 with 1 Axes>"
      ]
     },
     "metadata": {
      "needs_background": "light"
     },
     "output_type": "display_data"
    }
   ],
   "source": [
    "# Residual Plot for Support Vector Regressor\n",
    "svr_residuals = y_test - svr_preds\n",
    "plt.figure(figsize=(8, 6))\n",
    "sns.histplot(svr_residuals, kde=True, bins=30, color='red', alpha=0.6)\n",
    "plt.title(\"Support Vector Regressor: Residual Distribution\")\n",
    "plt.xlabel(\"Residuals\")\n",
    "plt.ylabel(\"Frequency\")\n",
    "plt.show()"
   ]
  },
  {
   "cell_type": "markdown",
   "id": "20dafe9a",
   "metadata": {},
   "source": [
    "# Model Evaluation"
   ]
  },
  {
   "cell_type": "code",
   "execution_count": 31,
   "id": "6c34c00d",
   "metadata": {},
   "outputs": [
    {
     "name": "stdout",
     "output_type": "stream",
     "text": [
      "Model: Linear Regression\n",
      "Mean Squared Error: 12306121.30293457\n",
      "Mean Absolute Error: 2087.306212322818\n",
      "R-Squared: 0.844115853666815\n",
      "\n",
      "Model: Decision Tree Regressor\n",
      "Mean Squared Error: 9532215.776875341\n",
      "Mean Absolute Error: 2090.699195121951\n",
      "R-Squared: 0.8792534802425853\n",
      "\n",
      "Model: Random Forest Regressor\n",
      "Mean Squared Error: 3381317.803615219\n",
      "Mean Absolute Error: 1303.187512195122\n",
      "R-Squared: 0.9571681583236088\n",
      "\n",
      "Model: Gradient Boosting Regressor\n",
      "Mean Squared Error: 5286350.007266424\n",
      "Mean Absolute Error: 1600.9626457957954\n",
      "R-Squared: 0.9330367271851412\n",
      "\n",
      "Model: Support Vector Regressor\n",
      "Mean Squared Error: 86849952.9291869\n",
      "Mean Absolute Error: 5696.573041738608\n",
      "R-Squared: -0.10014605237274443\n",
      "\n"
     ]
    }
   ],
   "source": [
    "# Function to evaluate models\n",
    "from sklearn.metrics import mean_squared_error, mean_absolute_error, r2_score\n",
    "def evaluate_model(model_name, y_true, y_pred):\n",
    "    mse = mean_squared_error(y_true, y_pred)\n",
    "    mae = mean_absolute_error(y_true, y_pred)\n",
    "    r2 = r2_score(y_true, y_pred)\n",
    "    print(f\"Model: {model_name}\")\n",
    "    print(f\"Mean Squared Error: {mse}\")\n",
    "    print(f\"Mean Absolute Error: {mae}\")\n",
    "    print(f\"R-Squared: {r2}\\n\")\n",
    "\n",
    "# Evaluate each model\n",
    "evaluate_model(\"Linear Regression\", y_test, lr_preds)\n",
    "evaluate_model(\"Decision Tree Regressor\", y_test, dt_preds)\n",
    "evaluate_model(\"Random Forest Regressor\", y_test, rf_preds)\n",
    "evaluate_model(\"Gradient Boosting Regressor\", y_test, gb_preds)\n",
    "evaluate_model(\"Support Vector Regressor\", y_test, svr_preds)"
   ]
  },
  {
   "cell_type": "code",
   "execution_count": 35,
   "id": "745402af",
   "metadata": {},
   "outputs": [
    {
     "data": {
      "image/png": "[encoded data removed]",
      "text/plain": [
       "<Figure size 1800x432 with 5 Axes>"
      ]
     },
     "metadata": {
      "needs_background": "light"
     },
     "output_type": "display_data"
    }
   ],
   "source": [
    "#Visualisation \n",
    "import matplotlib.pyplot as plt\n",
    "import seaborn as sns\n",
    "\n",
    "def plot_all_actual_vs_predicted(y_test, model_predictions):\n",
    "    \"\"\"\n",
    "    Plots Actual vs Predicted values for multiple regression models in subplots.\n",
    "    \n",
    "    Parameters:\n",
    "    y_test (array-like): True values from the test set.\n",
    "    model_predictions (dict): Dictionary with model names as keys and predictions as values.\n",
    "    \"\"\"\n",
    "    num_models = len(model_predictions)\n",
    "    fig, axes = plt.subplots(1, num_models, figsize=(5 * num_models, 6), sharey=True)\n",
    "    \n",
    "    for i, (model_name, y_pred) in enumerate(model_predictions.items()):\n",
    "        ax = axes[i] if num_models > 1 else axes\n",
    "        sns.scatterplot(x=y_test, y=y_pred, ax=ax, color='blue', alpha=0.6, label=\"Predicted vs Actual\")\n",
    "        sns.lineplot(x=y_test, y=y_test, ax=ax, color='red', label=\"Perfect Prediction Line\")  # 45-degree line\n",
    "        ax.set_title(f'{model_name}', fontsize=12)\n",
    "        ax.set_xlabel('Actual Values')\n",
    "        ax.set_ylabel('Predicted Values')\n",
    "        ax.legend()\n",
    "        ax.grid(True)\n",
    "    \n",
    "    plt.tight_layout()\n",
    "    plt.show()\n",
    "\n",
    "# Example usage:\n",
    "model_predictions = {\n",
    "    \"Linear Regression\": lr_preds,\n",
    "    \"Decision Tree Regressor\": dt_preds,\n",
    "    \"Random Forest Regressor\": rf_preds,\n",
    "    \"Gradient Boosting Regressor\": gb_preds,\n",
    "    \"Support Vector Regressor\": svr_preds\n",
    "}\n",
    "\n",
    "plot_all_actual_vs_predicted(y_test, model_predictions)\n"
   ]
  },
  {
   "cell_type": "markdown",
   "id": "75d47061",
   "metadata": {},
   "source": [
    "Feature Importance Analysis"
   ]
  },
  {
   "cell_type": "code",
   "execution_count": 36,
   "id": "ef1ec6aa",
   "metadata": {},
   "outputs": [
    {
     "name": "stdout",
     "output_type": "stream",
     "text": [
      "             Feature  Importance\n",
      "16        enginesize    0.556389\n",
      "13        curbweight    0.290457\n",
      "24        highwaympg    0.044403\n",
      "21        horsepower    0.026663\n",
      "0             car_ID    0.015699\n",
      "11          carwidth    0.012077\n",
      "2            CarName    0.009800\n",
      "10         carlength    0.007784\n",
      "9          wheelbase    0.006116\n",
      "23           citympg    0.005177\n",
      "22           peakrpm    0.004572\n",
      "19            stroke    0.004277\n",
      "18         boreratio    0.003922\n",
      "12         carheight    0.002879\n",
      "20  compressionratio    0.002225\n",
      "17        fuelsystem    0.001908\n",
      "6            carbody    0.001684\n",
      "14        enginetype    0.000989\n",
      "7         drivewheel    0.000822\n",
      "4         aspiration    0.000584\n",
      "1          symboling    0.000540\n",
      "15    cylindernumber    0.000465\n",
      "5         doornumber    0.000373\n",
      "3           fueltype    0.000175\n",
      "8     enginelocation    0.000019\n"
     ]
    }
   ],
   "source": [
    "# Feature importance from Random Forest\n",
    "importances = rf_model.feature_importances_\n",
    "feature_names = X.columns\n",
    "feature_importance_df = pd.DataFrame({'Feature': feature_names, 'Importance': importances}).sort_values(by='Importance', ascending=False)\n",
    "\n",
    "print(feature_importance_df)\n"
   ]
  },
  {
   "cell_type": "markdown",
   "id": "0950b693",
   "metadata": {},
   "source": [
    "# Hyperparameter Tuning"
   ]
  },
  {
   "cell_type": "code",
   "execution_count": 37,
   "id": "489ac091",
   "metadata": {},
   "outputs": [
    {
     "name": "stdout",
     "output_type": "stream",
     "text": [
      "Model: Tuned Random Forest Regressor\n",
      "Mean Squared Error: 3452564.299232171\n",
      "Mean Absolute Error: 1285.4372748467658\n",
      "R-Squared: 0.9562656644447429\n",
      "\n"
     ]
    }
   ],
   "source": [
    "from sklearn.model_selection import GridSearchCV\n",
    "\n",
    "# Hyperparameter tuning for Random Forest\n",
    "param_grid = {\n",
    "    'n_estimators': [100, 200, 300],\n",
    "    'max_depth': [10, 20, None],\n",
    "    'min_samples_split': [2, 5, 10]\n",
    "}\n",
    "\n",
    "grid_search = GridSearchCV(estimator=rf_model, param_grid=param_grid, cv=3, scoring='r2')\n",
    "grid_search.fit(X_train, y_train)\n",
    "\n",
    "# Best parameters and evaluation\n",
    "best_rf_model = grid_search.best_estimator_\n",
    "best_rf_preds = best_rf_model.predict(X_test)\n",
    "\n",
    "evaluate_model(\"Tuned Random Forest Regressor\", y_test, best_rf_preds)\n"
   ]
  },
  {
   "cell_type": "markdown",
   "id": "256ab917",
   "metadata": {},
   "source": [
    "# Conclusion"
   ]
  },
  {
   "cell_type": "raw",
   "id": "e6b3cd5c",
   "metadata": {},
   "source": [
    "Significant Variables:Based on feature importance, the key predictors of car prices are identified.\n",
    "Model Performance:The best-performing model (likely Random Forest or Gradient Boosting) explains the majority of the variance in car prices.\n",
    "Actionable Insights:Focus on key variables when designing or marketing cars to align with pricing strategies."
   ]
  }
 ],
 "metadata": {
  "kernelspec": {
   "display_name": "Python 3 (ipykernel)",
   "language": "python",
   "name": "python3"
  },
  "language_info": {
   "codemirror_mode": {
    "name": "ipython",
    "version": 3
   },
   "file_extension": ".py",
   "mimetype": "text/x-python",
   "name": "python",
   "nbconvert_exporter": "python",
   "pygments_lexer": "ipython3",
   "version": "3.9.12"
  }
 },
 "nbformat": 4,
 "nbformat_minor": 5
}
